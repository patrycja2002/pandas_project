{
 "cells": [
  {
   "cell_type": "markdown",
   "id": "e2a6a1e6",
   "metadata": {},
   "source": [
    "### Import library"
   ]
  },
  {
   "cell_type": "code",
   "execution_count": 1,
   "id": "3da1fdac",
   "metadata": {},
   "outputs": [],
   "source": [
    "import pandas as pd\n",
    "import numpy as np"
   ]
  },
  {
   "cell_type": "code",
   "execution_count": 2,
   "id": "4fcf7517",
   "metadata": {},
   "outputs": [],
   "source": [
    "client_df = pd.read_csv('drug_client.csv', index_col='id')\n",
    "product_df = pd.read_csv('drug_product.csv', index_col='id')\n",
    "date_df = pd.read_csv('drug_date.csv', index_col='id')"
   ]
  },
  {
   "cell_type": "markdown",
   "id": "fac8e586",
   "metadata": {},
   "source": [
    "### Change columns data type"
   ]
  },
  {
   "cell_type": "code",
   "execution_count": 3,
   "id": "b5b51eac",
   "metadata": {},
   "outputs": [],
   "source": [
    "date_df['expiration_date'] = pd.to_datetime(date_df['expiration_date'], dayfirst=True)\n",
    "date_df['transaction_date'] = pd.to_datetime(date_df['transaction_date'], dayfirst=True)"
   ]
  },
  {
   "cell_type": "markdown",
   "id": "ce2d9a94",
   "metadata": {},
   "source": [
    "### Add column"
   ]
  },
  {
   "cell_type": "code",
   "execution_count": 4,
   "id": "736a10c5",
   "metadata": {},
   "outputs": [],
   "source": [
    "date_df['Date_difference'] = date_df['expiration_date'] - date_df['transaction_date']"
   ]
  },
  {
   "cell_type": "markdown",
   "id": "e12cb5d2",
   "metadata": {},
   "source": [
    "### Cleansing and filtering date"
   ]
  },
  {
   "cell_type": "code",
   "execution_count": 5,
   "id": "b0cec96f",
   "metadata": {},
   "outputs": [],
   "source": [
    "date_df.Date_difference = (date_df.Date_difference / np.timedelta64(1,'D')).astype(int)"
   ]
  },
  {
   "cell_type": "code",
   "execution_count": 6,
   "id": "45108965",
   "metadata": {},
   "outputs": [],
   "source": [
    "date_df = date_df[date_df['Date_difference'] > 0 ]"
   ]
  },
  {
   "cell_type": "code",
   "execution_count": 7,
   "id": "3780c6b5",
   "metadata": {},
   "outputs": [],
   "source": [
    "filt_client = client_df[\"transaction_completed\"] == False\n",
    "client_df = client_df.drop(index=client_df[filt_client].index)"
   ]
  },
  {
   "cell_type": "markdown",
   "id": "6ea19553",
   "metadata": {},
   "source": [
    "### Rename columns"
   ]
  },
  {
   "cell_type": "code",
   "execution_count": 8,
   "id": "44c2d987",
   "metadata": {},
   "outputs": [],
   "source": [
    "list_new_cols = [\n",
    "    'Expiration_date',\n",
    "    'Created_date',\n",
    "    'Transaction_date'\n",
    "]\n",
    "\n",
    "for old_col, new_col in zip(date_df.columns, list_new_cols):\n",
    "    date_df = date_df.rename(columns={old_col: new_col})"
   ]
  },
  {
   "cell_type": "code",
   "execution_count": 9,
   "id": "ab8dca80",
   "metadata": {},
   "outputs": [],
   "source": [
    "list_new_cols = [\n",
    "    'First_name',\n",
    "    'Last_name',\n",
    "    'Email',\n",
    "    'Gender',\n",
    "    'Country',\n",
    "    'City',\n",
    "    'Card_type',\n",
    "    'Quantity',\n",
    "    'Transaction_completed'\n",
    "]\n",
    "for old_col, new_col in zip(client_df.columns, list_new_cols):\n",
    "    client_df = client_df.rename(columns={old_col: new_col})"
   ]
  },
  {
   "cell_type": "code",
   "execution_count": 10,
   "id": "cfde8f53",
   "metadata": {},
   "outputs": [],
   "source": [
    "list_new_cols = [\n",
    "    'Company',\n",
    "    'Brand',\n",
    "    'Name',\n",
    "    'Price'\n",
    "]\n",
    "for old_col, new_col in zip(product_df.columns, list_new_cols):\n",
    "    product_df = product_df.rename(columns={old_col: new_col})"
   ]
  },
  {
   "cell_type": "markdown",
   "id": "ba89793c",
   "metadata": {},
   "source": [
    "### Concatenate Columns"
   ]
  },
  {
   "cell_type": "code",
   "execution_count": 11,
   "id": "8df4c819",
   "metadata": {},
   "outputs": [],
   "source": [
    "client_df['Full_name'] = client_df['First_name'] + \" \"+ client_df['Last_name']"
   ]
  },
  {
   "cell_type": "markdown",
   "id": "bf8a45f9",
   "metadata": {},
   "source": [
    "### Merge tables"
   ]
  },
  {
   "cell_type": "code",
   "execution_count": 12,
   "id": "43b8d825",
   "metadata": {},
   "outputs": [],
   "source": [
    "df_merge = pd.merge(client_df, product_df, on='id')"
   ]
  },
  {
   "cell_type": "code",
   "execution_count": 13,
   "id": "60d74d4d",
   "metadata": {},
   "outputs": [],
   "source": [
    "df = pd.merge(df_merge, date_df, on='id')"
   ]
  },
  {
   "cell_type": "code",
   "execution_count": 14,
   "id": "aeb13f63",
   "metadata": {},
   "outputs": [],
   "source": [
    "df['Year']= df['Transaction_date'].dt.year\n",
    "df['month'] = df['Transaction_date'].dt.month"
   ]
  },
  {
   "cell_type": "markdown",
   "id": "1a8d498e",
   "metadata": {},
   "source": [
    "### Add column"
   ]
  },
  {
   "cell_type": "code",
   "execution_count": 15,
   "id": "49d13890",
   "metadata": {},
   "outputs": [],
   "source": [
    "df['Price_'] = df['Price'] * df['Quantity']"
   ]
  },
  {
   "cell_type": "code",
   "execution_count": 16,
   "id": "240b61b0",
   "metadata": {},
   "outputs": [],
   "source": [
    "mapping={\n",
    "    1: 'January', \n",
    "    2: 'February', \n",
    "    3: 'March', \n",
    "    4: 'April', \n",
    "    5: 'May',\n",
    "    6: 'June', \n",
    "    7: 'July',\n",
    "    8: 'August', \n",
    "    9: 'September', \n",
    "    10: 'October', \n",
    "    11: 'November',\n",
    "    12: 'December'\n",
    "    \n",
    "} \n",
    "df['Month']=df['month'].map(mapping)"
   ]
  },
  {
   "cell_type": "code",
   "execution_count": 17,
   "id": "26366aa5",
   "metadata": {},
   "outputs": [],
   "source": [
    "df['Year'] = df['Year'].astype('str')\n",
    "df['Date'] = df['Year'] + '-' +  df['Month']"
   ]
  },
  {
   "cell_type": "code",
   "execution_count": 18,
   "id": "884c05c6",
   "metadata": {},
   "outputs": [],
   "source": [
    "columns = [\n",
    "    'Company',\n",
    "    'Name',\n",
    "    'Full_name',\n",
    "    'Date',\n",
    "    'Quantity',\n",
    "    'Price_'\n",
    "]\n",
    "df = df[columns]"
   ]
  },
  {
   "cell_type": "markdown",
   "id": "029a509a",
   "metadata": {},
   "source": [
    "### Groupby operation"
   ]
  },
  {
   "cell_type": "code",
   "execution_count": 19,
   "id": "b694144d",
   "metadata": {},
   "outputs": [],
   "source": [
    "data_grp = df.groupby(['Date'])\n",
    "company_grp = df.groupby(['Company'])"
   ]
  },
  {
   "cell_type": "code",
   "execution_count": 20,
   "id": "64e90b09",
   "metadata": {},
   "outputs": [],
   "source": [
    "price = company_grp[\"Price_\"].sum()\n",
    "date = company_grp[\"Date\"].sum()"
   ]
  },
  {
   "cell_type": "code",
   "execution_count": 21,
   "id": "ad9673f3",
   "metadata": {},
   "outputs": [
    {
     "data": {
      "text/html": [
       "<div>\n",
       "<style scoped>\n",
       "    .dataframe tbody tr th:only-of-type {\n",
       "        vertical-align: middle;\n",
       "    }\n",
       "\n",
       "    .dataframe tbody tr th {\n",
       "        vertical-align: top;\n",
       "    }\n",
       "\n",
       "    .dataframe thead th {\n",
       "        text-align: right;\n",
       "    }\n",
       "</style>\n",
       "<table border=\"1\" class=\"dataframe\">\n",
       "  <thead>\n",
       "    <tr style=\"text-align: right;\">\n",
       "      <th></th>\n",
       "      <th>Price_</th>\n",
       "      <th>Date</th>\n",
       "    </tr>\n",
       "    <tr>\n",
       "      <th>Company</th>\n",
       "      <th></th>\n",
       "      <th></th>\n",
       "    </tr>\n",
       "  </thead>\n",
       "  <tbody>\n",
       "    <tr>\n",
       "      <th>3M ESPE Dental Products</th>\n",
       "      <td>159.04</td>\n",
       "      <td>2021-December</td>\n",
       "    </tr>\n",
       "    <tr>\n",
       "      <th>7-11</th>\n",
       "      <td>183.44</td>\n",
       "      <td>2021-October</td>\n",
       "    </tr>\n",
       "    <tr>\n",
       "      <th>7-Eleven</th>\n",
       "      <td>198.68</td>\n",
       "      <td>2022-January</td>\n",
       "    </tr>\n",
       "    <tr>\n",
       "      <th>ADIENNE SA</th>\n",
       "      <td>41.98</td>\n",
       "      <td>2021-April</td>\n",
       "    </tr>\n",
       "    <tr>\n",
       "      <th>ALK-Abello, Inc.</th>\n",
       "      <td>188.00</td>\n",
       "      <td>2021-July2021-August</td>\n",
       "    </tr>\n",
       "    <tr>\n",
       "      <th>...</th>\n",
       "      <td>...</td>\n",
       "      <td>...</td>\n",
       "    </tr>\n",
       "    <tr>\n",
       "      <th>Zandi LLC</th>\n",
       "      <td>259.68</td>\n",
       "      <td>2021-June</td>\n",
       "    </tr>\n",
       "    <tr>\n",
       "      <th>Zep, Inc</th>\n",
       "      <td>348.92</td>\n",
       "      <td>2022-February</td>\n",
       "    </tr>\n",
       "    <tr>\n",
       "      <th>Zydus Pharmaceuticals USA Inc</th>\n",
       "      <td>3.51</td>\n",
       "      <td>2021-June</td>\n",
       "    </tr>\n",
       "    <tr>\n",
       "      <th>philosophy</th>\n",
       "      <td>143.86</td>\n",
       "      <td>2021-June</td>\n",
       "    </tr>\n",
       "    <tr>\n",
       "      <th>sanofi-aventis U.S. LLC</th>\n",
       "      <td>19.30</td>\n",
       "      <td>2021-December</td>\n",
       "    </tr>\n",
       "  </tbody>\n",
       "</table>\n",
       "<p>214 rows × 2 columns</p>\n",
       "</div>"
      ],
      "text/plain": [
       "                               Price_                  Date\n",
       "Company                                                    \n",
       "3M ESPE Dental Products        159.04         2021-December\n",
       "7-11                           183.44          2021-October\n",
       "7-Eleven                       198.68          2022-January\n",
       "ADIENNE SA                      41.98            2021-April\n",
       "ALK-Abello, Inc.               188.00  2021-July2021-August\n",
       "...                               ...                   ...\n",
       "Zandi LLC                      259.68             2021-June\n",
       "Zep, Inc                       348.92         2022-February\n",
       "Zydus Pharmaceuticals USA Inc    3.51             2021-June\n",
       "philosophy                     143.86             2021-June\n",
       "sanofi-aventis U.S. LLC         19.30         2021-December\n",
       "\n",
       "[214 rows x 2 columns]"
      ]
     },
     "execution_count": 21,
     "metadata": {},
     "output_type": "execute_result"
    }
   ],
   "source": [
    "data_frame = pd.concat([price, date], axis=\"columns\", sort=False)\n",
    "data_frame"
   ]
  }
 ],
 "metadata": {
  "kernelspec": {
   "display_name": "Python 3 (ipykernel)",
   "language": "python",
   "name": "python3"
  },
  "language_info": {
   "codemirror_mode": {
    "name": "ipython",
    "version": 3
   },
   "file_extension": ".py",
   "mimetype": "text/x-python",
   "name": "python",
   "nbconvert_exporter": "python",
   "pygments_lexer": "ipython3",
   "version": "3.8.10"
  }
 },
 "nbformat": 4,
 "nbformat_minor": 5
}
